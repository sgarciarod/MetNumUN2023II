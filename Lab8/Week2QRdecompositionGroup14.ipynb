{
  "nbformat": 4,
  "nbformat_minor": 0,
  "metadata": {
    "colab": {
      "provenance": []
    },
    "kernelspec": {
      "name": "python3",
      "display_name": "Python 3"
    }
  },
  "cells": [
    {
      "cell_type": "code",
      "metadata": {
        "id": "OLUKMp6bzVEJ"
      },
      "source": [
        "import numpy as np\n",
        "\n",
        "from numpy.testing import assert_allclose\n",
        "from numpy.linalg import norm"
      ],
      "execution_count": 1,
      "outputs": []
    },
    {
      "cell_type": "markdown",
      "metadata": {
        "id": "Uz3t7DtP0gLx"
      },
      "source": [
        "# Part I. Construct a Householder reflection of a vector."
      ]
    },
    {
      "cell_type": "markdown",
      "metadata": {
        "id": "K0JvLCTy0kOI"
      },
      "source": [
        "Given a vector $\\mathbf{x}$, and a plane with a normal vector $\\mathbf{u}$, the Householder transformation reflects $\\mathbf{x}$ about the plane.\n",
        "\n",
        "The matrix of the Householder transformation is\n",
        "\n",
        "$$\n",
        "\\mathbf{H} = \\mathbf{I} - 2 \\mathbf{u} \\mathbf{u}^T\n",
        "$$\n",
        "\n",
        "Given two equal-length vectors $\\mathbf{x}$ and $\\mathbf{y}$, a rotation which brings $\\mathbf{x}$ to $\\mathbf{y}$ is a Householder transform with\n",
        "\n",
        "$$\n",
        "\\mathbf{u} = \\frac{\\mathbf{x} - \\mathbf{y}}{\\left|\\mathbf{x} - \\mathbf{y}\\right|}\n",
        "$$"
      ]
    },
    {
      "cell_type": "markdown",
      "metadata": {
        "id": "0SvLbsbc0oqh"
      },
      "source": [
        "Write a function which rotates a given vector, $\\mathbf{x} = (x_1, \\dots, x_n)$ into $\\mathbf{y} = (\\left|\\mathbf{x}\\right|, 0, \\dots, 0)^T$ using a Householder transformation."
      ]
    },
    {
      "cell_type": "code",
      "metadata": {
        "id": "_xCVjiVB0jco"
      },
      "source": [
        "def householder(vec):\n",
        "    \"\"\"Construct a Householder reflection to zero out 2nd and further components of a vector.\n",
        "\n",
        "    Parameters\n",
        "    ----------\n",
        "    vec : array-like of floats, shape (n,)\n",
        "        Input vector\n",
        "\n",
        "    Returns\n",
        "    -------\n",
        "    outvec : array of floats, shape (n,)\n",
        "        Transformed vector, with ``outvec[1:]==0`` and ``|outvec| == |vec|``\n",
        "    H : array of floats, shape (n, n)\n",
        "        Orthogonal matrix of the Householder reflection\n",
        "    \"\"\"\n",
        "    # ... ENTER YOUR CODE HERE ...\n",
        "\n",
        "    len_vec = len(vec)\n",
        "    norm_x = np.linalg.norm(vec)\n",
        "    x_minus_y = vec - np.array([norm_x] + [0] * (len_vec-1))\n",
        "    j = x_minus_y / np.linalg.norm(x_minus_y)\n",
        "    H = np.eye(len_vec) - 2 * np.outer(j, j)\n",
        "    outvec = np.dot(H, vec)\n",
        "\n",
        "    return  outvec, H\n",
        ""
      ],
      "execution_count": 2,
      "outputs": []
    },
    {
      "cell_type": "markdown",
      "metadata": {
        "id": "otdj2PA8bGwx"
      },
      "source": [
        "Test your function using tests below:"
      ]
    },
    {
      "cell_type": "code",
      "metadata": {
        "id": "D6TICN9QbKQH"
      },
      "source": [
        "# Test I.1 (10% of the total grade).\n",
        "\n",
        "v = np.array([1, 2, 3])\n",
        "v1, h = householder(v)\n",
        "\n",
        "assert_allclose(np.dot(h, v1), v)\n",
        "assert_allclose(np.dot(h, v), v1)"
      ],
      "execution_count": 3,
      "outputs": []
    },
    {
      "cell_type": "code",
      "metadata": {
        "id": "Y_iJuPlpbzLI"
      },
      "source": [
        "# Test I.2 (10% of the total grade).\n",
        "\n",
        "rndm = np.random.RandomState(1234)\n",
        "\n",
        "vec = rndm.uniform(size=7)\n",
        "v1, h = householder(vec)\n",
        "\n",
        "assert_allclose(np.dot(h, v1), vec)"
      ],
      "execution_count": 4,
      "outputs": []
    },
    {
      "cell_type": "markdown",
      "metadata": {
        "id": "wNDpJogKb-WW"
      },
      "source": [
        "# Part II. Compute the $\\mathrm{QR}$ decomposition of a matrix.\n",
        "\n",
        "Given a rectangular $m\\times n$ matrix $\\mathbf{A}$, construct a Householder reflector matrix $\\mathbf{H}_1$ which transforms the first column of $\\mathbf{A}$ (and call the result $\\mathbf{A}^{(1)}$)\n",
        "\n",
        "$$\n",
        "\\mathbf{H}_1 \\mathbf{A} =%\n",
        "\\begin{pmatrix}\n",
        "\\times & \\times & \\times & \\dots & \\times \\\\\n",
        "0      & \\times & \\times & \\dots & \\times \\\\\n",
        "0      & \\times & \\times & \\dots & \\times \\\\\n",
        "&& \\dots&& \\\\\n",
        "0      & \\times & \\times & \\dots & \\times \\\\\n",
        "\\end{pmatrix}%\n",
        "\\equiv \\mathbf{A}^{(1)}\\;.\n",
        "$$\n",
        "\n",
        "Now consider the lower-right submatrix of $\\mathbf{A}^{(1)}$, and construct a Householder reflector which annihilates the second column of $\\mathbf{A}$:\n",
        "\n",
        "$$\n",
        "\\mathbf{H}_2 \\mathbf{A}^{(1)} =%\n",
        "\\begin{pmatrix}\n",
        "\\times & \\times & \\times & \\dots & \\times \\\\\n",
        "0      & \\times & \\times & \\dots & \\times \\\\\n",
        "0      & 0      & \\times & \\dots & \\times \\\\\n",
        "&& \\dots&& \\\\\n",
        "0      & 0      & \\times & \\dots & \\times \\\\\n",
        "\\end{pmatrix}%\n",
        "\\equiv \\mathbf{A}^{(2)} \\;.\n",
        "$$\n",
        "\n",
        "Repeating the process $n-1$ times, we obtain\n",
        "\n",
        "$$\n",
        "\\mathbf{H}_{n-1} \\cdots \\mathbf{H}_2 \\mathbf{H}_1 \\mathbf{A} = \\mathbf{R} \\;,\n",
        "$$\n",
        "\n",
        "with $\\mathbf{R}$ an upper triangular matrix. Since each $\\mathbf{H}_k$ is orthogonal, so is their product. The inverse of an orthogonal matrix is orthogonal. Hence the process generates the $\\mathrm{QR}$ decomposition of $\\mathbf{A}$.\n",
        "\n",
        "$$\n",
        "\\mathbf{A} = (\\mathbf{H}_{n-1} \\cdots \\mathbf{H}_2 \\mathbf{H}_1)^{-1} \\mathbf{R} \\;,\n",
        "$$\n",
        "so\n",
        "$$\n",
        "\\mathbf{A} =  \\mathbf{Q} \\mathbf{R} \\;,\n",
        "$$\n",
        "with\n",
        "$$\n",
        "\\mathbf{Q} = (\\mathbf{H}_{n-1} \\cdots \\mathbf{H}_2 \\mathbf{H}_1)^{-1} =  \\mathbf{H}_1^{-1}  \\mathbf{H}_2^{-1}  \\cdots \\mathbf{H}_{n-1}^{-1} = \\mathbf{H}_1^T  \\mathbf{H}_2^T  \\cdots \\mathbf{H}_{n-1}^T\n",
        "$$\n",
        "Since $\\mathbf{H}_i$ is ortogonal\n",
        "$$\n",
        "\\mathbf{H}_i\\mathbf{H}_i^T = \\mathbf{I}\n",
        "$$\n",
        "then\n",
        "$$\n",
        "\\mathbf{H}^{-1} = \\mathbf{H}^T\n",
        "$$\n",
        "but also  $\\mathbf{H}_i$ is symetric\n",
        "$$\n",
        "\\mathbf{H}_i^T = \\mathbf{H}_i\n",
        "$$\n",
        "so\n",
        "$$\n",
        "\\mathbf{Q} = \\mathbf{H}_1^{-1}  \\mathbf{H}_2^{-1}  \\cdots \\mathbf{H}_{n-1}^{-1} = \\mathbf{H}_1^T  \\mathbf{H}_2^T  \\cdots \\mathbf{H}_{n-1}^T =  \\mathbf{H}_1 \\mathbf{H}_2  \\cdots \\mathbf{H}_{n-1}\n",
        "$$\n"
      ]
    },
    {
      "cell_type": "code",
      "metadata": {
        "id": "-asgo49bb42_"
      },
      "source": [
        "def qr_decomp(a):\n",
        "    \"\"\"Compute the QR decomposition of a matrix.\n",
        "\n",
        "    Parameters\n",
        "    ----------\n",
        "    a : ndarray, shape(m, n)\n",
        "        The input matrix\n",
        "\n",
        "    Returns\n",
        "    -------\n",
        "    Q : ndarray, shape(m, m)\n",
        "        The orthogonal matrix\n",
        "    R : ndarray, shape(m, n)\n",
        "        The upper triangular matrix\n",
        "\n",
        "    Examples\n",
        "    --------\n",
        "    >>> a = np.random.random(size=(3, 5))\n",
        "    >>> q, r = qr_decomp(a)\n",
        "    >>> np.assert_allclose(np.dot(q, r), a)\n",
        "\n",
        "    \"\"\"\n",
        "    # ... ENTER YOUR CODE HERE ...\n",
        "\n",
        "    m, n = a.shape\n",
        "    Q = np.eye(m)\n",
        "    R = a.copy()\n",
        "\n",
        "    for j in range(min(m, n)):\n",
        "        x = R[j:, j]\n",
        "        norm_x = np.linalg.norm(x)\n",
        "        if norm_x == 0:\n",
        "            continue\n",
        "        y = np.zeros_like(x)\n",
        "        y[0] = norm_x\n",
        "        u = (x - y) / np.linalg.norm(x - y)\n",
        "        H = np.eye(m)\n",
        "        H[j:, j:] -= 2 * np.outer(u, u)\n",
        "        R = np.dot(H, R)\n",
        "        Q = np.dot(Q, H.T)\n",
        "\n",
        "    return Q,R"
      ],
      "execution_count": 5,
      "outputs": []
    },
    {
      "cell_type": "code",
      "metadata": {
        "id": "9JNb9e0Ncv-B"
      },
      "source": [
        "# Might want to turn this on for prettier printing: zeros instead of `1e-16` etc\n",
        "\n",
        "np.set_printoptions(suppress=True)"
      ],
      "execution_count": 6,
      "outputs": []
    },
    {
      "cell_type": "code",
      "metadata": {
        "id": "SiI3KkVnsqQz"
      },
      "source": [
        "# Test II.1 (20% of the total grade)\n",
        "\n",
        "rndm = np.random.RandomState(1234)\n",
        "a = rndm.uniform(size=(5, 3))\n",
        "q, r = qr_decomp(a)\n",
        "\n",
        "# test that Q is indeed orthogonal\n",
        "assert_allclose(np.dot(q, q.T), np.eye(5), atol=1e-10)\n",
        "\n",
        "# test the decomposition itself\n",
        "assert_allclose(np.dot(q, r), a)"
      ],
      "execution_count": 7,
      "outputs": []
    },
    {
      "cell_type": "markdown",
      "metadata": {
        "id": "zB1DDyVps5Br"
      },
      "source": [
        "Now compare your decompositions to the library function (which actually wraps the corresponding LAPACK functions)"
      ]
    },
    {
      "cell_type": "code",
      "metadata": {
        "id": "mfDa37dts6K6"
      },
      "source": [
        "from scipy.linalg import qr\n",
        "qq, rr = qr(a)\n",
        "\n",
        "assert_allclose(np.dot(qq, rr), a)"
      ],
      "execution_count": 8,
      "outputs": []
    },
    {
      "cell_type": "markdown",
      "metadata": {
        "id": "IFOrXiW5tGjL"
      },
      "source": [
        "Check if your q and r agree with qq and rr. Explain."
      ]
    },
    {
      "cell_type": "code",
      "metadata": {
        "id": "d2sBV9aPdoJA",
        "colab": {
          "base_uri": "https://localhost:8080/"
        },
        "outputId": "3666b98d-0457-4ab8-fbde-fd6b71460a42"
      },
      "source": [
        "from scipy.linalg import qr\n",
        "a = np.array([[4,3,1], [5,7,0], [9,9,3], [8,2,4], [9,3,1]])\n",
        "q, r = qr_decomp(a)\n",
        "qq, rr = qr(a)\n",
        "print(q)\n",
        "print(qq)\n",
        "print(r)\n",
        "print(rr)\n",
        "print(a)\n",
        "print(q@r)\n",
        "print(qq@rr)"
      ],
      "execution_count": 9,
      "outputs": [
        {
          "output_type": "stream",
          "name": "stdout",
          "text": [
            "[[ 0.27088608  0.02504403 -0.06535136  0.95964669 -0.0283012 ]\n",
            " [ 0.30379747  0.58701626 -0.33121325 -0.14303499 -0.65799527]\n",
            " [ 0.54683544  0.50315975  0.37333551 -0.12611581  0.54084809]\n",
            " [ 0.48607595 -0.47519609  0.56191158 -0.10012449 -0.46059669]\n",
            " [ 0.54683544 -0.41928945 -0.65643199 -0.1808013   0.2481437 ]]\n",
            "[[-0.24479602 -0.06723049  0.00981821 -0.41631113 -0.87300837]\n",
            " [-0.30599503 -0.58266423  0.33762629  0.64971343 -0.17535786]\n",
            " [-0.55079106 -0.4964713  -0.36457628 -0.41134781  0.38473703]\n",
            " [-0.48959205  0.47923271 -0.55563068  0.4547994  -0.1227505 ]\n",
            " [-0.55079106  0.42406923  0.66653641 -0.16884307  0.20979928]]\n",
            "[[16.33417722 10.47341772  4.40253165]\n",
            " [-0.01147851  6.50442321 -0.78555051]\n",
            " [ 0.02995271 -0.          2.64586952]\n",
            " [-0.43983807 -0.          0.        ]\n",
            " [ 0.01297139 -0.         -0.        ]]\n",
            "[[-16.34013464 -10.46503005  -4.40632844]\n",
            " [  0.          -6.51790964   0.7843557 ]\n",
            " [  0.           0.          -2.63989693]\n",
            " [  0.           0.           0.        ]\n",
            " [  0.           0.           0.        ]]\n",
            "[[4 3 1]\n",
            " [5 7 0]\n",
            " [9 9 3]\n",
            " [8 2 4]\n",
            " [9 3 1]]\n",
            "[[4. 3. 1.]\n",
            " [5. 7. 0.]\n",
            " [9. 9. 3.]\n",
            " [8. 2. 4.]\n",
            " [9. 3. 1.]]\n",
            "[[4. 3. 1.]\n",
            " [5. 7. 0.]\n",
            " [9. 9. 3.]\n",
            " [8. 2. 4.]\n",
            " [9. 3. 1.]]\n"
          ]
        }
      ]
    },
    {
      "cell_type": "markdown",
      "metadata": {
        "id": "mv5qlwoHMwvU"
      },
      "source": [
        "Enter your explanation here (10% of the total grade, peer-graded)"
      ]
    },
    {
      "cell_type": "markdown",
      "metadata": {
        "id": "zwqwAkrotneq"
      },
      "source": [
        "# Part III. Avoid forming Householder matrices explicitly."
      ]
    },
    {
      "cell_type": "markdown",
      "metadata": {
        "id": "LfaWxcavtofS"
      },
      "source": [
        "Note the special structure of the Householder matrices: A reflector $\\mathbf{H}$ is completely specified by a reflection vector $\\mathbf{u}$. Also note that the computational cost of applying a reflector to a matrix strongly depends on the order of operations:\n",
        "\n",
        "$$\n",
        "\\left( \\mathbf{u} \\mathbf{u}^T \\right) \\mathbf{A}  \\qquad \\textrm{is } O(m^2 n)\\;,\n",
        "$$\n",
        "while\n",
        "$$\n",
        "\\mathbf{u} \\left( \\mathbf{u}^T \\mathbf{A} \\right) \\qquad \\textrm{is } O(mn)\n",
        "$$\n",
        "\n",
        "Thus, it seems to make sense to *avoid* forming the $\\mathbf{H}$ matrices. Instead, one stores the reflection vectors, $\\mathbf{u}$, themselves, and provides a way of multiplying an arbitrary matrix by $\\mathbf{Q}^T$, e.g., as a standalone function (or a class).\n",
        "\n",
        "\n",
        "\n"
      ]
    },
    {
      "cell_type": "markdown",
      "metadata": {
        "id": "xdrCItiYt027"
      },
      "source": [
        "Write a function which constructs the `QR` decomposition of a matrix *without ever forming the* $\\mathbf{H}$ matrices, and returns the $\\mathbf{R}$ matrix and reflection vectors.\n",
        "\n",
        "Write a second function, which uses reflection vectors to multiply a matrix with $\\mathbf{Q}^T$. Make sure to include enough comments for a marker to follow your implementation, and add tests.\n",
        "\n",
        "(Peer-graded, 40% of the total grade)"
      ]
    },
    {
      "cell_type": "markdown",
      "metadata": {
        "id": "02SQz3w1MAdF"
      },
      "source": [
        "$$\n",
        "\\mathbf{R} = \\mathbf{H}_{n-1} \\cdots \\mathbf{H}_2 \\mathbf{H}_1 \\mathbf{A}\n",
        "$$\n",
        "and\n",
        "$$\n",
        "\\mathbf{H}_i = \\mathbf{I} - 2 \\mathbf{u}_i \\mathbf{u}_i^T\n",
        "$$\n",
        "so if\n",
        "$$\n",
        "\\mathbf{R}_0 =  \\mathbf{A}\n",
        "$$\n",
        "then\n",
        "$$\n",
        "\\mathbf{R}_1 = \\mathbf{H}_1 \\mathbf{R}_0= \\ (\\mathbf{I} - 2 \\mathbf{u}_1 \\mathbf{u}_1^T) \\mathbf{R}_0 =  \\mathbf{R}_0 -  2 \\mathbf{u}_1 ( \\mathbf{u}_1^T  \\mathbf{R}_0)\n",
        "$$\n",
        "and\n",
        "$$\n",
        "\\mathbf{R}_2 = \\mathbf{H}_2 \\mathbf{R}_1 = \\ (\\mathbf{I} - 2 \\mathbf{u}_2 \\mathbf{u}_2^T) \\mathbf{R}_1 =  \\mathbf{R}_1 -  2 \\mathbf{u}_2 ( \\mathbf{u}_2^T  \\mathbf{R}_1)\n",
        "$$\n",
        "so on until\n",
        "$$\n",
        "\\mathbf{R} = \\mathbf{H}_n \\mathbf{R}_{n-1} =  (\\mathbf{I} - 2 \\mathbf{u}_{n-1} \\mathbf{u}_{n-1}^T) \\mathbf{R}_{n-1} = \\mathbf{R}_{n-1} -  2 \\mathbf{u}_{n-1} ( \\mathbf{u}_{n-1}^T  \\mathbf{R}_{n-1})\n",
        "$$"
      ]
    },
    {
      "cell_type": "code",
      "metadata": {
        "id": "agH0iQYjt145"
      },
      "source": [
        "def r_decomp(a):\n",
        "    \"\"\"Compute R without ever forming the  H  matrices\n",
        "\n",
        "    Parameters\n",
        "    ----------\n",
        "    a : ndarray, shape(m, n)\n",
        "        The input matrix\n",
        "\n",
        "    Returns\n",
        "    -------\n",
        "\n",
        "    R : ndarray, shape(m, n)\n",
        "        The upper triangular matrix\n",
        "    vecs:  reflection vectors.\n",
        "\n",
        "    \"\"\"\n",
        "    # ... ENTER YOUR CODE HERE ...\n",
        "\n",
        "    m, n = a.shape\n",
        "    R = np.copy(a)\n",
        "    vecs = []\n",
        "\n",
        "    for i in range(n):\n",
        "        x = R[i:, i]\n",
        "        norm_x = norm(x)\n",
        "        j = np.zeros_like(x, dtype=float)\n",
        "        j[0] = x[0] + np.sign(x[0]) * norm_x\n",
        "        j[1:] = x[1:]\n",
        "        j /= norm(j)\n",
        "        R[i:, i:] -= 2 * np.outer(j, np.dot(j, R[i:, i:])).astype(R.dtype)\n",
        "        vecs.append(j)\n",
        "\n",
        "    return R, vecs"
      ],
      "execution_count": 10,
      "outputs": []
    },
    {
      "cell_type": "markdown",
      "metadata": {
        "id": "pfIyTAAyL3xd"
      },
      "source": [
        "$$\n",
        "\\mathbf{Q} =  \\mathbf{H}_1 \\mathbf{H}_2  \\cdots \\mathbf{H}_{n-1}\n",
        "$$\n",
        "and\n",
        "$$\n",
        "\\mathbf{H}_i = \\mathbf{I} - 2 \\mathbf{u}_i \\mathbf{u}_i^T\n",
        "$$\n",
        "so\n",
        "$$\n",
        "\\mathbf{Q} =  (\\mathbf{I} - 2 \\mathbf{u}_1 \\mathbf{u}_1^T )( \\mathbf{I} - 2 \\mathbf{u}_2 \\mathbf{u}_2^T)  \\cdots (\\mathbf{I} - 2 \\mathbf{u}_{n-1} \\mathbf{u}_{n-1}^T)\n",
        "$$"
      ]
    },
    {
      "cell_type": "code",
      "metadata": {
        "id": "n_ER2kVdLprT"
      },
      "source": [
        "def q_decomp(vecs):\n",
        "    \"\"\"Compute Q and QT from reflection vectors\n",
        "\n",
        "    Parameters\n",
        "    ----------\n",
        "    a : ndarray, shape(m, n)\n",
        "        The input matrix\n",
        "\n",
        "    Returns\n",
        "    -------\n",
        "\n",
        "    Q : ndarray, shape(m, m)\n",
        "        The ortogonal matrix\n",
        "    Q.T : ndarray, shape(m, m)\n",
        "        The transpose of Q\n",
        "\n",
        "    \"\"\"\n",
        "\n",
        "    # ... ENTER YOUR CODE HERE ...\n",
        "\n",
        "    m, n = len(vecs[0]), len(vecs)\n",
        "    Q = np.eye(m)\n",
        "\n",
        "    for i in range(n-1, -1, -1):\n",
        "        j = vecs[i]\n",
        "        Q[i:, i:] -= 2 * np.outer(j, np.dot(j, Q[i:, i:]))\n",
        "\n",
        "    return Q, Q.T"
      ],
      "execution_count": 11,
      "outputs": []
    },
    {
      "cell_type": "code",
      "metadata": {
        "id": "a6TJziVDUQf3"
      },
      "source": [
        "rndm = np.random.RandomState(1234)\n",
        "a = rndm.uniform(size=(5, 3))\n",
        "r, vecs = r_decomp(a)\n",
        "q,qt = q_decomp(vecs)\n",
        "\n",
        "# test that Q is indeed orthogonal\n",
        "assert_allclose(np.dot(q, q.T), np.eye(5), atol=1e-10)\n",
        "\n",
        "# test the decomposition itself\n",
        "assert_allclose(np.dot(q, r), a)"
      ],
      "execution_count": 12,
      "outputs": []
    },
    {
      "cell_type": "code",
      "metadata": {
        "id": "-eaGWWkHX-dP"
      },
      "source": [
        "from scipy.linalg import qr\n",
        "qq, rr = qr(a)\n",
        "\n",
        "assert_allclose(np.dot(qq, rr), a)"
      ],
      "execution_count": 13,
      "outputs": []
    },
    {
      "cell_type": "code",
      "metadata": {
        "colab": {
          "base_uri": "https://localhost:8080/"
        },
        "id": "6JGctCeR_LLn",
        "outputId": "88a62c0d-24c5-48d7-c699-6e35cd965fed"
      },
      "source": [
        "a = np.array([[4,3,1], [5,7,0], [9,9,3], [8,2,4], [9,3,1]])\n",
        "R, vecs = r_decomp(a)\n",
        "print(\"R\\n \",R)\n",
        "Q,QT = q_decomp(vecs)\n",
        "print(\"Q\\n\",Q)\n",
        "print(\"QT\\n\",QT)\n",
        "print(\"QT@Q\\n\",QT@Q)\n",
        "print(\"a\\n\",a)\n",
        "print(\"Q@R\\n\",Q@R)"
      ],
      "execution_count": 14,
      "outputs": [
        {
          "output_type": "stream",
          "name": "stdout",
          "text": [
            "R\n",
            "  [[-16  -9  -3]\n",
            " [  1  -7   0]\n",
            " [  1   1  -1]\n",
            " [  2   0   0]\n",
            " [  1  -1  -1]]\n",
            "Q\n",
            " [[-0.24479602  0.37134325  0.35520807 -0.23155048 -0.78891742]\n",
            " [-0.30599503 -0.58291648  0.19741342  0.66749208 -0.28645712]\n",
            " [-0.55079106 -0.50988978 -0.20674184 -0.62723146  0.02191194]\n",
            " [-0.48959205  0.41573336 -0.69452363  0.3188391  -0.0586852 ]\n",
            " [-0.55079106  0.29915006  0.5565518   0.07590132  0.54002549]]\n",
            "QT\n",
            " [[-0.24479602 -0.30599503 -0.55079106 -0.48959205 -0.55079106]\n",
            " [ 0.37134325 -0.58291648 -0.50988978  0.41573336  0.29915006]\n",
            " [ 0.35520807  0.19741342 -0.20674184 -0.69452363  0.5565518 ]\n",
            " [-0.23155048  0.66749208 -0.62723146  0.3188391   0.07590132]\n",
            " [-0.78891742 -0.28645712  0.02191194 -0.0586852   0.54002549]]\n",
            "QT@Q\n",
            " [[ 1. -0. -0.  0.  0.]\n",
            " [-0.  1.  0.  0. -0.]\n",
            " [-0.  0.  1.  0. -0.]\n",
            " [ 0.  0.  0.  1.  0.]\n",
            " [ 0. -0. -0.  0.  1.]]\n",
            "a\n",
            " [[4 3 1]\n",
            " [5 7 0]\n",
            " [9 9 3]\n",
            " [8 2 4]\n",
            " [9 3 1]]\n",
            "Q@R\n",
            " [[ 3.39126933  0.74788693  1.16809743]\n",
            " [ 5.55894447  7.31824118  1.00702879]\n",
            " [ 6.86347428  8.29769415  1.83720306]\n",
            " [ 8.13367551  0.86035653  2.22198498]\n",
            " [10.36018687  2.87959539  0.55579587]]\n"
          ]
        }
      ]
    }
  ]
}