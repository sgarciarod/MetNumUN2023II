{
  "cells": [
    {
      "cell_type": "markdown",
      "metadata": {
        "id": "_7zSSeX21Grj"
      },
      "source": [
        "# Simple iteration for systems of linear equations"
      ]
    },
    {
      "cell_type": "markdown",
      "metadata": {
        "id": "GRz8VJ0N1Grn"
      },
      "source": [
        "First, generate a random diagonally dominant matrix, for testing."
      ]
    },
    {
      "cell_type": "code",
      "execution_count": 1,
      "metadata": {
        "collapsed": true,
        "id": "jTVkb-WZ1Gro"
      },
      "outputs": [],
      "source": [
        "import numpy as np\n",
        "rndm = np.random.RandomState(1234)\n",
        "\n",
        "n = 10\n",
        "A = rndm.uniform(size=(n, n)) + np.diagflat([15]*n)\n",
        "b = rndm.uniform(size=n)"
      ]
    },
    {
      "cell_type": "code",
      "source": [
        "A"
      ],
      "metadata": {
        "id": "4mv5q-nMKZwY",
        "outputId": "24e429ee-4c7e-4e0b-9ec7-0123ed2a934e",
        "colab": {
          "base_uri": "https://localhost:8080/"
        }
      },
      "execution_count": 2,
      "outputs": [
        {
          "output_type": "execute_result",
          "data": {
            "text/plain": [
              "array([[1.51915195e+01, 6.22108771e-01, 4.37727739e-01, 7.85358584e-01,\n",
              "        7.79975808e-01, 2.72592605e-01, 2.76464255e-01, 8.01872178e-01,\n",
              "        9.58139354e-01, 8.75932635e-01],\n",
              "       [3.57817270e-01, 1.55009951e+01, 6.83462935e-01, 7.12702027e-01,\n",
              "        3.70250755e-01, 5.61196186e-01, 5.03083165e-01, 1.37684496e-02,\n",
              "        7.72826622e-01, 8.82641191e-01],\n",
              "       [3.64885984e-01, 6.15396178e-01, 1.50753812e+01, 3.68824006e-01,\n",
              "        9.33140102e-01, 6.51378143e-01, 3.97202578e-01, 7.88730143e-01,\n",
              "        3.16836122e-01, 5.68098653e-01],\n",
              "       [8.69127390e-01, 4.36173424e-01, 8.02147642e-01, 1.51437668e+01,\n",
              "        7.04260971e-01, 7.04581308e-01, 2.18792106e-01, 9.24867629e-01,\n",
              "        4.42140755e-01, 9.09315959e-01],\n",
              "       [5.98092228e-02, 1.84287084e-01, 4.73552788e-02, 6.74880944e-01,\n",
              "        1.55946248e+01, 5.33310163e-01, 4.33240627e-02, 5.61433080e-01,\n",
              "        3.29668446e-01, 5.02966833e-01],\n",
              "       [1.11894318e-01, 6.07193706e-01, 5.65944643e-01, 6.76406199e-03,\n",
              "        6.17441709e-01, 1.59121229e+01, 7.90524133e-01, 9.92081466e-01,\n",
              "        9.58801762e-01, 7.91964135e-01],\n",
              "       [2.85250960e-01, 6.24916705e-01, 4.78093796e-01, 1.95675179e-01,\n",
              "        3.82317452e-01, 5.38736851e-02, 1.54516484e+01, 9.82004742e-01,\n",
              "        1.23942700e-01, 1.19380898e-01],\n",
              "       [7.38523056e-01, 5.87303633e-01, 4.71632534e-01, 1.07126817e-01,\n",
              "        2.29218565e-01, 8.99965195e-01, 4.16753538e-01, 1.55358517e+01,\n",
              "        6.20851659e-03, 3.00641706e-01],\n",
              "       [4.36893172e-01, 6.12148997e-01, 9.18198075e-01, 6.25736670e-01,\n",
              "        7.05997565e-01, 1.49833716e-01, 7.46063409e-01, 8.31006992e-01,\n",
              "        1.56337258e+01, 4.38309881e-01],\n",
              "       [1.52572775e-01, 5.68409615e-01, 5.28224278e-01, 9.51428764e-01,\n",
              "        4.80359179e-01, 5.02559563e-01, 5.36878193e-01, 8.19202067e-01,\n",
              "        5.71156381e-02, 1.56694217e+01]])"
            ]
          },
          "metadata": {},
          "execution_count": 2
        }
      ]
    },
    {
      "cell_type": "markdown",
      "metadata": {
        "id": "oNGIGBex1Grq"
      },
      "source": [
        "# I.  Jacobi iteration\n",
        "\n",
        "Given\n",
        "\n",
        "$$\n",
        "A x = b\n",
        "$$\n",
        "\n",
        "separate the diagonal part $D$,\n",
        "\n",
        "$$ A = D + (A - D) $$\n",
        "\n",
        "and write\n",
        "\n",
        "$$\n",
        "x = D^{-1} (D - A) x + D^{-1} b\\;.\n",
        "$$\n",
        "\n",
        "Then iterate\n",
        "\n",
        "$$\n",
        "x_{n + 1} = B x_{n} + c\\;,\n",
        "$$\n",
        "\n",
        "where\n",
        "\n",
        "$$\n",
        "B = D^{-1} (A - D) \\qquad \\text{and} \\qquad c = D^{-1} b\n",
        "$$\n"
      ]
    },
    {
      "cell_type": "markdown",
      "metadata": {
        "id": "rB2PHHIK1Grr"
      },
      "source": [
        "Let's construct the matrix and the r.h.s. for the Jacobi iteration"
      ]
    },
    {
      "cell_type": "code",
      "execution_count": 3,
      "metadata": {
        "id": "bnk796g61Grr"
      },
      "outputs": [],
      "source": [
        "diag_1d = np.diag(A)\n",
        "\n",
        "B = -A.copy()\n",
        "np.fill_diagonal(B, 0)\n",
        "\n",
        "D = np.diag(diag_1d)\n",
        "invD = np.diag(1./diag_1d)\n",
        "BB = invD @ B\n",
        "c = invD @ b"
      ]
    },
    {
      "cell_type": "code",
      "execution_count": 4,
      "metadata": {
        "id": "0NTUyC3i1Grs"
      },
      "outputs": [],
      "source": [
        "# sanity checks\n",
        "from numpy.testing import assert_allclose\n",
        "\n",
        "assert_allclose(-B + D, A)\n",
        "\n",
        "\n",
        "# xx is a \"ground truth\" solution, compute it using a direct method\n",
        "xx = np.linalg.solve(A, b)\n",
        "\n",
        "np.testing.assert_allclose(A@xx, b)\n",
        "np.testing.assert_allclose(D@xx, B@xx + b)\n",
        "np.testing.assert_allclose(xx, BB@xx + c)"
      ]
    },
    {
      "cell_type": "markdown",
      "metadata": {
        "id": "nRaVUE6U1Grt"
      },
      "source": [
        "Check that $\\| B\\| \\leqslant 1$:"
      ]
    },
    {
      "cell_type": "code",
      "execution_count": 5,
      "metadata": {
        "id": "zgED2OGu1Gru",
        "outputId": "a1955634-777a-4257-8d0e-ca87115802e0",
        "colab": {
          "base_uri": "https://localhost:8080/"
        }
      },
      "outputs": [
        {
          "output_type": "execute_result",
          "data": {
            "text/plain": [
              "0.36436161983015336"
            ]
          },
          "metadata": {},
          "execution_count": 5
        }
      ],
      "source": [
        "np.linalg.norm(BB)"
      ]
    },
    {
      "cell_type": "markdown",
      "metadata": {
        "id": "rlBcusqg1Grv"
      },
      "source": [
        "### Do the Jacobi iteration"
      ]
    },
    {
      "cell_type": "code",
      "execution_count": 6,
      "metadata": {
        "collapsed": true,
        "id": "NK6iwDtm1Grv"
      },
      "outputs": [],
      "source": [
        "n_iter = 50\n",
        "\n",
        "x0 = np.ones(n)\n",
        "x = x0\n",
        "for _ in range(n_iter):\n",
        "    x = BB @ x + c"
      ]
    },
    {
      "cell_type": "code",
      "execution_count": 7,
      "metadata": {
        "id": "gsLyio7W1Grw",
        "outputId": "23b6f4ac-b339-431a-c5ac-5ff8d67c986e",
        "colab": {
          "base_uri": "https://localhost:8080/"
        }
      },
      "outputs": [
        {
          "output_type": "execute_result",
          "data": {
            "text/plain": [
              "array([ 1.11022302e-16,  0.00000000e+00, -2.22044605e-16, -1.11022302e-16,\n",
              "        1.11022302e-16,  0.00000000e+00, -2.42861287e-17,  0.00000000e+00,\n",
              "       -2.77555756e-17,  1.11022302e-16])"
            ]
          },
          "metadata": {},
          "execution_count": 7
        }
      ],
      "source": [
        "# Check the result:\n",
        "\n",
        "A @ x - b"
      ]
    },
    {
      "cell_type": "markdown",
      "metadata": {
        "id": "MXfb9BuT1Grw"
      },
      "source": [
        "### Task I.1\n",
        "\n",
        "Collect the proof-of-concept above into a single function implementing the Jacobi iteration. This function should receive the r.h.s. matrix $A$, the l.h.s. vector `b`, and the number of iterations to perform.\n",
        "\n",
        "\n",
        "The matrix $A$ in the illustration above is strongly diagonally dominant, by construction.\n",
        "What happens if the diagonal matrix elements of $A$ are made smaller? Check the convergence of the Jacobi iteration, and check the value of the norm of $B$.\n",
        "\n",
        "(20% of the total grade)\n"
      ]
    },
    {
      "cell_type": "code",
      "execution_count": 8,
      "metadata": {
        "collapsed": true,
        "id": "5zqTUVVa1Grw",
        "colab": {
          "base_uri": "https://localhost:8080/"
        },
        "outputId": "df82bdcf-8b7f-420c-fe98-46fcfe98fb97"
      },
      "outputs": [
        {
          "output_type": "stream",
          "name": "stdout",
          "text": [
            "Original A:\n",
            "Solution vector: [0.09229869 0.21595253 0.41187576]\n",
            "Norms of differences between consecutive solutions: [0.687386354243376, 0.3791437722025775, 0.19777451035066282, 0.10704482121989833, 0.05698190978314714, 0.03064512627199415, 0.01638126971629196, 0.00879260153435083, 0.004706802221473611, 0.002524255646749693]\n",
            "Norms of matrix B: [3.4641016151377544, 3.4641016151377544, 3.4641016151377544, 3.4641016151377544, 3.4641016151377544, 3.4641016151377544, 3.4641016151377544, 3.4641016151377544, 3.4641016151377544, 3.4641016151377544]\n",
            "\n",
            "Modified A with smaller diagonal elements:\n",
            "Solution vector: [0.92298693 2.15952527 4.11875764]\n",
            "Norms of differences between consecutive solutions: [6.87386354243376, 3.7914377220257753, 1.9777451035066285, 1.0704482121989833, 0.5698190978314713, 0.3064512627199413, 0.16381269716291957, 0.08792601534350843, 0.04706802221473645, 0.025242556467497023]\n",
            "Norms of matrix B: [0.3464101615137755, 0.3464101615137755, 0.3464101615137755, 0.3464101615137755, 0.3464101615137755, 0.3464101615137755, 0.3464101615137755, 0.3464101615137755, 0.3464101615137755, 0.3464101615137755]\n"
          ]
        }
      ],
      "source": [
        "# ... ENTER YOUR CODE HERE ...\n",
        "\n",
        "import numpy as np\n",
        "\n",
        "def jacobi_iteration(matrix_A, vector_b, num_iterations):\n",
        "    n = matrix_A.shape[0]\n",
        "    solution_vector = np.zeros(n)\n",
        "\n",
        "    norms_diff = []\n",
        "    norms_B = []\n",
        "\n",
        "    for _ in range(num_iterations):\n",
        "        new_solution_vector = np.zeros(n)\n",
        "        for i in range(n):\n",
        "            new_solution_vector[i] = (vector_b[i] - np.dot(matrix_A[i, :i], solution_vector[:i]) - np.dot(matrix_A[i, i+1:], solution_vector[i+1:])) / matrix_A[i, i]\n",
        "        norms_diff.append(np.linalg.norm(new_solution_vector - solution_vector))\n",
        "        norms_B.append(np.linalg.norm(matrix_A - np.diag(np.diagonal(matrix_A))))\n",
        "\n",
        "        solution_vector = new_solution_vector\n",
        "\n",
        "    return solution_vector, norms_diff, norms_B\n",
        "\n",
        "# Example\n",
        "original_matrix_A = np.array([[4, 1, 1],\n",
        "                              [1, 5, 2],\n",
        "                              [1, 2, 6]])\n",
        "\n",
        "right_hand_side_b = np.array([1, 2, 3])\n",
        "\n",
        "num_iterations = 10\n",
        "\n",
        "# Original matrix A\n",
        "solution_orig, diff_orig, norm_B_orig = jacobi_iteration(original_matrix_A, right_hand_side_b, num_iterations)\n",
        "\n",
        "# Modified matrix A with smaller diagonal elements\n",
        "modified_matrix_A = np.array([[0.4, 0.1, 0.1],\n",
        "                               [0.1, 0.5, 0.2],\n",
        "                               [0.1, 0.2, 0.6]])\n",
        "\n",
        "solution_modified, diff_modified, norm_B_modified = jacobi_iteration(modified_matrix_A, right_hand_side_b, num_iterations)\n",
        "\n",
        "print(\"Original A:\")\n",
        "print(\"Solution vector:\", solution_orig)\n",
        "print(\"Norms of differences between consecutive solutions:\", diff_orig)\n",
        "print(\"Norms of matrix B:\", norm_B_orig)\n",
        "print()\n",
        "\n",
        "print(\"Modified A with smaller diagonal elements:\")\n",
        "print(\"Solution vector:\", solution_modified)\n",
        "print(\"Norms of differences between consecutive solutions:\", diff_modified)\n",
        "print(\"Norms of matrix B:\", norm_B_modified)\n"
      ]
    },
    {
      "cell_type": "markdown",
      "metadata": {
        "id": "xBnguRFT1Grx"
      },
      "source": [
        "# II. Seidel's iteration."
      ]
    },
    {
      "cell_type": "markdown",
      "metadata": {
        "id": "rSbuFdYU1Grx"
      },
      "source": [
        "##### Task II.1\n",
        "\n",
        "Implement the Seidel's iteration.\n",
        "\n",
        "Test it on a random matrix. Study the convergence of iterations, relate to the norm of the iteration matrix.\n",
        "\n",
        "(30% of the total grade)"
      ]
    },
    {
      "cell_type": "code",
      "execution_count": 9,
      "metadata": {
        "collapsed": true,
        "id": "FYygs3Ml1Grx",
        "colab": {
          "base_uri": "https://localhost:8080/"
        },
        "outputId": "f99c7d94-3292-4c0d-8590-3168ea1ac975"
      },
      "outputs": [
        {
          "output_type": "stream",
          "name": "stdout",
          "text": [
            "Solution vector: [ 4.28501194e+07 -3.62612565e+07  2.54593307e+07  1.68112976e+08\n",
            " -8.11728907e+08]\n",
            "Norms of differences between consecutive solutions: [4.661445959830939, 24.753027118407942, 196.69065042788662, 1687.4358499325722, 14660.672533860792, 127672.58104321104, 1112339.1686998634, 9692030.4810567, 84450003.36658797, 735844415.4131263]\n",
            "Norms of iteration matrix B: [2.2158550725297035, 2.2158550725297035, 2.2158550725297035, 2.2158550725297035, 2.2158550725297035, 2.2158550725297035, 2.2158550725297035, 2.2158550725297035, 2.2158550725297035, 2.2158550725297035]\n"
          ]
        }
      ],
      "source": [
        "# ... ENTER YOUR CODE HERE ...\n",
        "\n",
        "import numpy as np\n",
        "\n",
        "def gauss_seidel_iteration(coeff_matrix_A, rhs_vector_b, num_iterations):\n",
        "    size = coeff_matrix_A.shape[0]\n",
        "    solution_vector = np.zeros(size)  # Initial guess for the solution vector\n",
        "\n",
        "    norms_diff = []\n",
        "    norms_B = []\n",
        "\n",
        "    for _ in range(num_iterations):\n",
        "        new_solution_vector = np.zeros(size)\n",
        "        for i in range(size):\n",
        "            new_solution_vector[i] = (rhs_vector_b[i] - np.dot(coeff_matrix_A[i, :i], new_solution_vector[:i]) - np.dot(coeff_matrix_A[i, i+1:], solution_vector[i+1:])) / coeff_matrix_A[i, i]\n",
        "        norms_diff.append(np.linalg.norm(new_solution_vector - solution_vector))\n",
        "        norms_B.append(np.linalg.norm(coeff_matrix_A - np.tril(coeff_matrix_A) @ np.triu(coeff_matrix_A, 1)))\n",
        "\n",
        "        solution_vector = new_solution_vector\n",
        "\n",
        "    return solution_vector, norms_diff, norms_B\n",
        "\n",
        "# Example\n",
        "matrix_size = 5  # Size of the matrix\n",
        "random_matrix_A = np.random.rand(matrix_size, matrix_size)  # Random matrix\n",
        "random_rhs_vector_b = np.random.rand(matrix_size)  # Random right-hand side vector\n",
        "num_iterations = 10\n",
        "\n",
        "solution, diff, norm_B = gauss_seidel_iteration(random_matrix_A, random_rhs_vector_b, num_iterations)\n",
        "\n",
        "print(\"Solution vector:\", solution)\n",
        "print(\"Norms of differences between consecutive solutions:\", diff)\n",
        "print(\"Norms of iteration matrix B:\", norm_B)\n"
      ]
    },
    {
      "cell_type": "markdown",
      "metadata": {
        "id": "y3PDxY8W1Gry"
      },
      "source": [
        "# III. Minimum residual scheme"
      ]
    },
    {
      "cell_type": "markdown",
      "metadata": {
        "id": "IbfUD6zy1Gry"
      },
      "source": [
        "### Task III.1\n",
        "\n",
        "Implement the $\\textit{minimum residual}$ scheme: an explicit non-stationary method, where at each step you select the iteration parameter $\\tau_n$ to minimize the residual $\\mathbf{r}_{n+1}$ given $\\mathbf{r}_n$. Test it on a random matrix, study the convergence to the solution, in terms of the norm of the residual and the deviation from the ground truth solution (which you can obtain using a direct method). Study how the iteration parameter $\\tau_n$ changes as iterations progress.\n",
        "\n",
        "(50% of the grade)"
      ]
    },
    {
      "cell_type": "code",
      "execution_count": 10,
      "metadata": {
        "collapsed": true,
        "id": "60_IGETi1Gry",
        "colab": {
          "base_uri": "https://localhost:8080/"
        },
        "outputId": "f75cf8e5-a849-4038-f3db-7f3f7000dd06"
      },
      "outputs": [
        {
          "output_type": "stream",
          "name": "stdout",
          "text": [
            "Ground truth solution: [ 0.29906416 -1.91622822  3.73195474 -3.07972545  1.71076669]\n",
            "MINRES solution: [-954.1129047  -735.73752782  541.59138094 -955.21444971  291.24836457]\n",
            "Norms of residual: [3.046101565484322, 3.859620802532755, 20.28532411938484, 35.23603916198933, 94.61365096081141, 179.2456106720324, 336.36450985322864, 691.9392243335232, 1130.9063365567815, 2534.3845752755274]\n",
            "Norms of deviation from ground truth solution: [1.3531473766374686, 4.011688889592961, 12.350613098299679, 22.343099355055067, 70.88109685142987, 113.29918730286705, 255.08394235635404, 414.1681437873938, 789.5747714340074, 1288.5836618246133]\n",
            "Iteration parameter tau values: [1.0, 1.682433366519159, 3.420967836498932, 1.1011595540824923, 2.5057639804298315, 1.236821658060584, 1.7953006339457596, 1.4428526462944995, 1.490054827063662, 1.6733036637409444]\n"
          ]
        }
      ],
      "source": [
        "# ... ENTER YOUR CODE HERE ...\n",
        "\n",
        "import numpy as np\n",
        "\n",
        "def minres_scheme(coeff_matrix_A, rhs_vector_b, num_iterations):\n",
        "    size = coeff_matrix_A.shape[0]\n",
        "    solution_vector = np.zeros(size)  # Initial guess for the solution vector\n",
        "    residual_vector = rhs_vector_b - coeff_matrix_A @ solution_vector  # Initial residual vector\n",
        "    search_direction_vector = residual_vector.copy()  # Initial search direction vector\n",
        "\n",
        "    norms_residual = []\n",
        "    norms_deviation = []\n",
        "    tau_values = []\n",
        "\n",
        "    for k in range(num_iterations):\n",
        "        Ap = coeff_matrix_A @ search_direction_vector\n",
        "        denom = np.dot(search_direction_vector, Ap)\n",
        "        if denom == 0:\n",
        "            break\n",
        "        tau = np.dot(residual_vector, Ap) / denom\n",
        "        solution_vector_new = solution_vector + tau * search_direction_vector\n",
        "        residual_vector_new = residual_vector - tau * Ap\n",
        "\n",
        "        norms_residual.append(np.linalg.norm(residual_vector_new))\n",
        "        norms_deviation.append(np.linalg.norm(solution_vector_new - solution_vector))\n",
        "        tau_values.append(tau)\n",
        "\n",
        "        solution_vector = solution_vector_new\n",
        "        residual_vector = residual_vector_new\n",
        "        beta = np.linalg.norm(residual_vector)\n",
        "        search_direction_vector = residual_vector + (beta / np.linalg.norm(residual_vector)) * search_direction_vector\n",
        "\n",
        "    return solution_vector, norms_residual, norms_deviation, tau_values\n",
        "\n",
        "# Example\n",
        "matrix_size = 5  # Size of the matrix\n",
        "random_matrix_A = np.random.rand(matrix_size, matrix_size)  # Random matrix\n",
        "random_rhs_vector_b = np.random.rand(matrix_size)  # Random right-hand side vector\n",
        "num_iterations = 10\n",
        "\n",
        "# Obtain ground truth solution using a direct method\n",
        "solution_ground_truth = np.linalg.solve(random_matrix_A, random_rhs_vector_b)\n",
        "\n",
        "solution_minres, norms_residual, norms_deviation, tau_values = minres_scheme(random_matrix_A, random_rhs_vector_b, num_iterations)\n",
        "\n",
        "print(\"Ground truth solution:\", solution_ground_truth)\n",
        "print(\"MINRES solution:\", solution_minres)\n",
        "print(\"Norms of residual:\", norms_residual)\n",
        "print(\"Norms of deviation from ground truth solution:\", norms_deviation)\n",
        "print(\"Iteration parameter tau values:\", tau_values)\n"
      ]
    }
  ],
  "metadata": {
    "kernelspec": {
      "display_name": "Python 3",
      "language": "python",
      "name": "python3"
    },
    "language_info": {
      "codemirror_mode": {
        "name": "ipython",
        "version": 3
      },
      "file_extension": ".py",
      "mimetype": "text/x-python",
      "name": "python",
      "nbconvert_exporter": "python",
      "pygments_lexer": "ipython3",
      "version": "3.5.2"
    },
    "colab": {
      "provenance": []
    }
  },
  "nbformat": 4,
  "nbformat_minor": 0
}